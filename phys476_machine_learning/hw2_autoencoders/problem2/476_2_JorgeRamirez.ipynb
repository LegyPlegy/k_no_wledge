{
 "cells": [
  {
   "cell_type": "code",
   "execution_count": null,
   "metadata": {},
   "outputs": [],
   "source": [
    "import tensorflow\n",
    "import pandas as pd\n",
    "import numpy as np\n",
    "from keras.models import Sequential\n",
    "from keras.layers import Dense, Flatten, Activation, Dropout, Conv2D, MaxPooling2D\n",
    "from keras.callbacks import History\n",
    "from keras.utils import plot_model, to_categorical\n",
    "from keras.backend import clear_session\n",
    "\n",
    "from keras import optimizers\n",
    "\n",
    "import matplotlib.pyplot as plt\n",
    "\n",
    "''' global plotting settings '''\n",
    "#plt.style.use('seaborn-paper')\n",
    "# Update the matplotlib configuration parameters:\n",
    "plt.rcParams.update({'text.usetex': False,\n",
    "                     'lines.linewidth': 3,\n",
    "                     'font.family': 'sans-serif',\n",
    "                     'font.serif': 'Helvetica',\n",
    "                     'font.size': 14,\n",
    "                     'xtick.labelsize': 'large',\n",
    "                     'ytick.labelsize': 'large',\n",
    "                     'axes.labelsize': 'large',\n",
    "                     'axes.titlesize': 'large',\n",
    "                     'axes.grid': True,\n",
    "                     'grid.alpha': 0.53,\n",
    "                     'lines.markersize': 12,\n",
    "                     'legend.borderpad': 0.2,\n",
    "                     'legend.fancybox': True,\n",
    "                     'legend.fontsize': 'medium',\n",
    "                     'legend.framealpha': 0.7,\n",
    "                     'legend.handletextpad': 0.1,\n",
    "                     'legend.labelspacing': 0.2,\n",
    "                     'legend.loc': 'best',\n",
    "                     'figure.figsize': (12,8),\n",
    "                     'savefig.dpi': 100,\n",
    "                     'pdf.compression': 9})\n",
    "\n",
    "\"\"\"\n",
    "This jupyter notebook is based on using machine learning \n",
    "to categorize pictures of flowers (hw2 prob 2)\n",
    "\n",
    "\n",
    "Jorge Ramirez\n",
    "\"\"\""
   ]
  },
  {
   "cell_type": "code",
   "execution_count": null,
   "metadata": {},
   "outputs": [],
   "source": [
    "\"\"\" \n",
    "this cell is for importing the data, assumed to be in the same directory as .py file\n",
    "\"\"\"\n",
    "\n",
    "  # load .data file into a np array\n",
    "    \n",
    "flower_imgs = np.load(\"flower_imgs.npy\")\n",
    "flower_labels = np.load(\"flower_labels.npy\")\n",
    "\n",
    "\n",
    "\"\"\"\n",
    "show the flowers\n",
    "flower_no = 2  #index in array\n",
    "print(flower_labels[flower_no])\n",
    "plt.imshow(flower_imgs[flower_no], interpolation='nearest')\n",
    "\"\"\""
   ]
  },
  {
   "cell_type": "code",
   "execution_count": 41,
   "metadata": {},
   "outputs": [
    {
     "name": "stdout",
     "output_type": "stream",
     "text": [
      "(4323, 32, 32, 3)\n"
     ]
    }
   ],
   "source": [
    "\"\"\"\n",
    "This cell is for creating training and testing datasets, \n",
    "the train/test sets will be separated using keras in the model.compile()\n",
    "\"\"\"\n",
    "\n",
    "raw_data = flower_imgs  # (32, 32, 3) vectors (RGB images)\n",
    "input_data = raw_data\n",
    "output_data = flower_labels\n",
    "\n",
    "# data is already sorted by channel_last \n",
    "\n"
   ]
  },
  {
   "cell_type": "code",
   "execution_count": null,
   "metadata": {},
   "outputs": [],
   "source": [
    "\"\"\"\n",
    "need to shuffle input and output arrays but keep them consistent between each other\n",
    "\"\"\"\n",
    "\n",
    "  # thanks stackoverflow\n",
    "def shuffle_in_unison_scary(a, b):\n",
    "    rng_state = np.random.get_state()\n",
    "    np.random.shuffle(a)\n",
    "    np.random.set_state(rng_state)\n",
    "    np.random.shuffle(b)\n",
    "\n",
    "\n",
    "shuffle_in_unison_scary(input_data, output_data)\n"
   ]
  },
  {
   "cell_type": "code",
   "execution_count": null,
   "metadata": {},
   "outputs": [],
   "source": [
    "\"\"\" \n",
    "making a net with several hidden layers\n",
    "\"\"\"\n",
    "\n",
    "  # initialize a linear network structure\n",
    "model = Sequential()\n",
    "\n",
    "  # add some layers\n",
    "model.add(Conv2D(filters=32, kernel_size=3, input_shape=(32, 32, 3), activation=\"sigmoid\"))\n",
    "model.add(MaxPooling2D(pool_size=(2,2)))\n",
    "model.add(Conv2D(filters=64, kernel_size=3, input_shape=(32, 32, 3), activation=\"sigmoid\"))\n",
    "model.add(MaxPooling2D(pool_size=(2,2)))\n",
    "model.add(Conv2D(filters=128, kernel_size=3, input_shape=(32, 32, 3), activation=\"sigmoid\"))\n",
    "model.add(MaxPooling2D(pool_size=(2,2)))\n",
    "model.add(Flatten())\n",
    "model.add(Dense(units=5, activation=\"softmax\"))\n",
    "\n",
    "\n",
    "  # set a custom optimizer\n",
    "#thats_our_boy = optimizers.RMSprop(learning_rate=0.0008)\n",
    "thats_our_boy = optimizers.Nadam(learning_rate=0.001)\n",
    "#thats_our_boy = keras.optimizers.Adam(learning_rate=0.001\n",
    "\n",
    "  # configure learning process\n",
    "model.compile(loss='sparse_categorical_crossentropy', optimizer=thats_our_boy, metrics=['accuracy'])\n",
    "\n",
    "  # train model for a few epochs. x is the input, y is the target (TRAINING) data\n",
    "history = model.fit(x=input_data, y=output_data, epochs=50, verbose=2, batch_size=32, validation_split=0.1)"
   ]
  },
  {
   "cell_type": "code",
   "execution_count": null,
   "metadata": {},
   "outputs": [],
   "source": [
    "# evaluate performance, x is input and y is target (TESTING) data\n",
    "\n",
    "# Plot training & validation loss values\n",
    "plt.plot(history.history['accuracy'], label=\"Training\")\n",
    "plt.plot(history.history['val_accuracy'], label=\"Validation\")\n",
    "\n",
    "#plt.yscale(\"log\")\n",
    "plt.title('History of Net Accuracy')\n",
    "plt.xlabel('Epoch')\n",
    "plt.ylabel(\"Accuracy\")\n",
    "plt.legend()\n",
    "plt.savefig('HistoryofLoss')\n",
    "plt.show()"
   ]
  },
  {
   "cell_type": "code",
   "execution_count": null,
   "metadata": {},
   "outputs": [],
   "source": [
    "model.summary()"
   ]
  }
 ],
 "metadata": {
  "kernelspec": {
   "display_name": "Python 3",
   "language": "python",
   "name": "python3"
  },
  "language_info": {
   "codemirror_mode": {
    "name": "ipython",
    "version": 3
   },
   "file_extension": ".py",
   "mimetype": "text/x-python",
   "name": "python",
   "nbconvert_exporter": "python",
   "pygments_lexer": "ipython3",
   "version": "3.6.9"
  }
 },
 "nbformat": 4,
 "nbformat_minor": 4
}
