{
 "cells": [
  {
   "cell_type": "code",
   "execution_count": 29,
   "metadata": {},
   "outputs": [
    {
     "data": {
      "text/plain": [
       "'\\nThis jupyter notebook is based on using machine learning \\nto find the maximum compression possible on magnetic data\\nfrom the 3m sodium experiment\\n'"
      ]
     },
     "execution_count": 29,
     "metadata": {},
     "output_type": "execute_result"
    }
   ],
   "source": [
    "import tensorflow\n",
    "import pandas as pd\n",
    "import numpy as np\n",
    "from keras.models import Sequential\n",
    "from keras.layers import Dense, Flatten, Activation, Dropout\n",
    "from keras.callbacks import History\n",
    "from keras.utils import plot_model\n",
    "from keras.backend import clear_session\n",
    "\n",
    "from keras import optimizers\n",
    "\n",
    "import matplotlib.pyplot as plt\n",
    "\n",
    "''' global plotting settings '''\n",
    "#plt.style.use('seaborn-paper')\n",
    "# Update the matplotlib configuration parameters:\n",
    "plt.rcParams.update({'text.usetex': False,\n",
    "                     'lines.linewidth': 3,\n",
    "                     'font.family': 'sans-serif',\n",
    "                     'font.serif': 'Helvetica',\n",
    "                     'font.size': 14,\n",
    "                     'xtick.labelsize': 'large',\n",
    "                     'ytick.labelsize': 'large',\n",
    "                     'axes.labelsize': 'large',\n",
    "                     'axes.titlesize': 'large',\n",
    "                     'axes.grid': True,\n",
    "                     'grid.alpha': 0.53,\n",
    "                     'lines.markersize': 12,\n",
    "                     'legend.borderpad': 0.2,\n",
    "                     'legend.fancybox': True,\n",
    "                     'legend.fontsize': 'medium',\n",
    "                     'legend.framealpha': 0.7,\n",
    "                     'legend.handletextpad': 0.1,\n",
    "                     'legend.labelspacing': 0.2,\n",
    "                     'legend.loc': 'best',\n",
    "                     'figure.figsize': (12,8),\n",
    "                     'savefig.dpi': 100,\n",
    "                     'pdf.compression': 9})\n",
    "\n",
    "\"\"\"\n",
    "This jupyter notebook is based on using machine learning \n",
    "to find the maximum compression possible on magnetic data\n",
    "from the 3m sodium experiment\n",
    "\"\"\""
   ]
  },
  {
   "cell_type": "code",
   "execution_count": 2,
   "metadata": {},
   "outputs": [],
   "source": [
    "\"\"\" \n",
    "this cell is for importing the data, assumed to be in the same directory as .py file\n",
    "\"\"\"\n",
    "\n",
    "  # load .data file into a pandas dataframe\n",
    "filepath = \"3m-data.csv\"\n",
    "data = pd.read_csv(filepath, header=None)"
   ]
  },
  {
   "cell_type": "code",
   "execution_count": 3,
   "metadata": {},
   "outputs": [],
   "source": [
    "\"\"\"\n",
    "This cell is for creating training and testing datasets\n",
    "\"\"\"\n",
    "\n",
    "  # first take a random 90% of the data, use it as our training data\n",
    "train_data = data.sample(frac = 9/10, axis = 0)\n",
    "\n",
    "  # take everything else to be our testing data\n",
    "test_data = data.drop(train_data.index)\n",
    "  \n",
    "    \n",
    "    \n",
    "\"\"\"\n",
    "train_in will be the input data we use to train our network\n",
    "train_out will be used as the answer key for the training done on train_in\n",
    "\"\"\"\n",
    "\n",
    "train_in, train_out = train_data, train_data  # identical in/out for autoencoder\n",
    "\n",
    "\"\"\" \n",
    "test_in will be the input parameters for seeing if our network works\n",
    "test_out will be the answer key for test_in\n",
    "\"\"\"\n",
    "\n",
    "test_in, test_out = test_data, test_data    # identical in/out for autoencoder\n"
   ]
  },
  {
   "cell_type": "code",
   "execution_count": 23,
   "metadata": {},
   "outputs": [
    {
     "name": "stdout",
     "output_type": "stream",
     "text": [
      "Train on 125282 samples, validate on 13920 samples\n",
      "Epoch 1/10\n",
      " - 2s - loss: 9.8382 - val_loss: 2.5318\n",
      "Epoch 2/10\n",
      " - 2s - loss: 0.7269 - val_loss: 0.0376\n",
      "Epoch 3/10\n",
      " - 2s - loss: 0.0056 - val_loss: 1.2241e-04\n",
      "Epoch 4/10\n",
      " - 2s - loss: 1.2003e-04 - val_loss: 1.1995e-04\n",
      "Epoch 5/10\n",
      " - 2s - loss: 1.1988e-04 - val_loss: 1.1993e-04\n",
      "Epoch 6/10\n",
      " - 1s - loss: 1.1991e-04 - val_loss: 1.2006e-04\n",
      "Epoch 7/10\n",
      " - 1s - loss: 1.1999e-04 - val_loss: 1.2003e-04\n",
      "Epoch 8/10\n",
      " - 2s - loss: 1.2012e-04 - val_loss: 1.2004e-04\n",
      "Epoch 9/10\n",
      " - 2s - loss: 1.2030e-04 - val_loss: 1.2075e-04\n",
      "Epoch 10/10\n",
      " - 2s - loss: 1.2045e-04 - val_loss: 1.2036e-04\n"
     ]
    }
   ],
   "source": [
    "\"\"\" \n",
    "making a net with several hidden layers\n",
    "\"\"\"\n",
    "\n",
    "  # initialize a linear network structure\n",
    "model = Sequential()\n",
    "\n",
    "  # add some layers\n",
    "model.add(Dense(units=33, activation='relu', input_dim=33))\n",
    "\n",
    "#model.add(Dense(units=15, activation='relu'))\n",
    "\n",
    "model.add(Dense(units=1, activation='sigmoid'))\n",
    "\n",
    "#model.add(Dense(units=15, activation='relu'))\n",
    "\n",
    "model.add(Dense(units=33, activation='linear'))\n",
    "\n",
    "\n",
    "  # set a custom optimizer\n",
    "#thats_our_boy = optimizers.RMSprop(learning_rate=0.0008)\n",
    "thats_our_boy = optimizers.Nadam(learning_rate=0.001)\n",
    "\n",
    "  # configure learning process\n",
    "model.compile(loss='mse', optimizer=thats_our_boy)\n",
    "\n",
    "  # train model for a few epochs. x is the input, y is the target (TRAINING) data\n",
    "history = model.fit(x=train_in, y=train_out, epochs=10, verbose=2, batch_size=64, validation_data=[test_in, test_out])"
   ]
  },
  {
   "cell_type": "code",
   "execution_count": 31,
   "metadata": {
    "jupyter": {
     "source_hidden": true
    }
   },
   "outputs": [
    {
     "data": {
      "image/png": "[encoded data removed]",
      "text/plain": [
       "<Figure size 864x576 with 1 Axes>"
      ]
     },
     "metadata": {
      "needs_background": "light"
     },
     "output_type": "display_data"
    }
   ],
   "source": [
    "# evaluate performance, x is input and y is target (TESTING) data\n",
    "\n",
    "# Plot training & validation loss values\n",
    "plt.plot(history.history['loss'], label=\"Training\")\n",
    "plt.plot(history.history['val_loss'], label=\"Validation\")\n",
    "\n",
    "plt.yscale(\"log\")\n",
    "plt.title('History of Net Accuracy')\n",
    "plt.xlabel('Epoch')\n",
    "plt.ylabel(\"Loss\")\n",
    "plt.legend()\n",
    "plt.savefig('HistoryofLoss')\n",
    "plt.show()"
   ]
  },
  {
   "cell_type": "code",
   "execution_count": null,
   "metadata": {},
   "outputs": [],
   "source": []
  }
 ],
 "metadata": {
  "kernelspec": {
   "display_name": "Python 3",
   "language": "python",
   "name": "python3"
  },
  "language_info": {
   "codemirror_mode": {
    "name": "ipython",
    "version": 3
   },
   "file_extension": ".py",
   "mimetype": "text/x-python",
   "name": "python",
   "nbconvert_exporter": "python",
   "pygments_lexer": "ipython3",
   "version": "3.6.9"
  }
 },
 "nbformat": 4,
 "nbformat_minor": 4
}
