{
 "cells": [
  {
   "cell_type": "code",
   "execution_count": 1,
   "metadata": {},
   "outputs": [
    {
     "name": "stderr",
     "output_type": "stream",
     "text": [
      "Using TensorFlow backend.\n"
     ]
    },
    {
     "data": {
      "text/plain": [
       "'\\nThis notebook is based on using machine learning on a set of data taken from a study on Abalones. \\n'"
      ]
     },
     "execution_count": 1,
     "metadata": {},
     "output_type": "execute_result"
    }
   ],
   "source": [
    "import tensorflow\n",
    "import pandas as pd\n",
    "import numpy as np\n",
    "from keras.models import Sequential\n",
    "from keras.layers import Dense, Flatten, Activation, Dropout\n",
    "from keras.callbacks import History\n",
    "from keras.optimizers import Adam\n",
    "from keras.utils import plot_model\n",
    "import matplotlib.pyplot as plt\n",
    "\n",
    "\"\"\"\n",
    "This notebook is based on using machine learning on a set of data taken from a study on Abalones. \n",
    "\"\"\""
   ]
  },
  {
   "cell_type": "code",
   "execution_count": 2,
   "metadata": {},
   "outputs": [],
   "source": [
    "\"\"\"\n",
    "import data set, separate into training & testing data\n",
    "\"\"\"\n",
    "\n",
    "filepath = \"abalone.data\"\n",
    "data = pd.read_csv (filepath, header=None, names=['sex','length', 'diameter',\n",
    "                                                        'height','whole','shucked',\n",
    "                                                        'viscera','shell','rings'])\n",
    "\n",
    "  # add 3 one-hot-encoded columns, the sex column is labeled \"M, F, I\", so add a column that does 1 & 0\n",
    "data = pd.concat([pd.get_dummies(data['sex'], prefix='sex'), data], axis=1)  \n",
    "del data['sex']  # remove column with values of \"M, F, I\""
   ]
  },
  {
   "cell_type": "code",
   "execution_count": 3,
   "metadata": {},
   "outputs": [
    {
     "name": "stdout",
     "output_type": "stream",
     "text": [
      "(3759, 10)\n"
     ]
    }
   ],
   "source": [
    "\"\"\"\n",
    "The following both creates the 3-column one-hot encoded sex input data\n",
    "and concatenates it (onto the front end) of the rest of the data array \n",
    "\"\"\"\n",
    "\n",
    "  # first take a random 90% of the data, use it as our training data\n",
    "train_data = data.sample(frac = 9/10, axis = 0)\n",
    "\n",
    "  # take everything else to be our testing data\n",
    "test_data = data.drop(train_data.index)\n",
    "\n",
    "\"\"\"\n",
    "train_in will be the input data we use to train our network\n",
    "train_out will be used as the answer key for the training done on train_in\n",
    "\"\"\"\n",
    "train_out = train_data['rings'].values  \n",
    "del train_data['rings']\n",
    "train_in = train_data.values\n",
    "\n",
    "\"\"\" \n",
    "test_in will be the input parameters for seeing if our network works\n",
    "test_out will be the answer key for test_in\n",
    "\"\"\"\n",
    "test_out = test_data['rings'].values\n",
    "del test_data ['rings']\n",
    "test_in = test_data.values\n",
    "\n",
    "  # clean up and delete unused arrays\n",
    "del train_data\n",
    "del test_data\n",
    "\n",
    "print(train_in.shape)"
   ]
  },
  {
   "cell_type": "code",
   "execution_count": 4,
   "metadata": {},
   "outputs": [
    {
     "name": "stdout",
     "output_type": "stream",
     "text": [
      "Epoch 1/50\n",
      " - 0s - loss: 6.2757 - mean_absolute_error: 6.2757\n",
      "Epoch 2/50\n",
      " - 0s - loss: 3.6385 - mean_absolute_error: 3.6385\n",
      "Epoch 3/50\n",
      " - 0s - loss: 3.1460 - mean_absolute_error: 3.1460\n",
      "Epoch 4/50\n",
      " - 0s - loss: 2.9186 - mean_absolute_error: 2.9186\n",
      "Epoch 5/50\n",
      " - 0s - loss: 2.6722 - mean_absolute_error: 2.6722\n",
      "Epoch 6/50\n",
      " - 0s - loss: 2.5235 - mean_absolute_error: 2.5235\n",
      "Epoch 7/50\n",
      " - 0s - loss: 2.4521 - mean_absolute_error: 2.4521\n",
      "Epoch 8/50\n",
      " - 0s - loss: 2.3076 - mean_absolute_error: 2.3076\n",
      "Epoch 9/50\n",
      " - 0s - loss: 2.2252 - mean_absolute_error: 2.2252\n",
      "Epoch 10/50\n",
      " - 0s - loss: 2.1935 - mean_absolute_error: 2.1935\n",
      "Epoch 11/50\n",
      " - 0s - loss: 2.0995 - mean_absolute_error: 2.0995\n",
      "Epoch 12/50\n",
      " - 0s - loss: 2.0513 - mean_absolute_error: 2.0513\n",
      "Epoch 13/50\n",
      " - 0s - loss: 2.0239 - mean_absolute_error: 2.0239\n",
      "Epoch 14/50\n",
      " - 0s - loss: 1.9841 - mean_absolute_error: 1.9841\n",
      "Epoch 15/50\n",
      " - 0s - loss: 1.9372 - mean_absolute_error: 1.9372\n",
      "Epoch 16/50\n",
      " - 0s - loss: 1.9045 - mean_absolute_error: 1.9045\n",
      "Epoch 17/50\n",
      " - 0s - loss: 1.9290 - mean_absolute_error: 1.9290\n",
      "Epoch 18/50\n",
      " - 0s - loss: 1.8542 - mean_absolute_error: 1.8542\n",
      "Epoch 19/50\n",
      " - 0s - loss: 1.8402 - mean_absolute_error: 1.8402\n",
      "Epoch 20/50\n",
      " - 0s - loss: 1.7760 - mean_absolute_error: 1.7760\n",
      "Epoch 21/50\n",
      " - 0s - loss: 1.8002 - mean_absolute_error: 1.8002\n",
      "Epoch 22/50\n",
      " - 0s - loss: 1.7967 - mean_absolute_error: 1.7967\n",
      "Epoch 23/50\n",
      " - 0s - loss: 1.7661 - mean_absolute_error: 1.7661\n",
      "Epoch 24/50\n",
      " - 0s - loss: 1.7578 - mean_absolute_error: 1.7578\n",
      "Epoch 25/50\n",
      " - 0s - loss: 1.7313 - mean_absolute_error: 1.7313\n",
      "Epoch 26/50\n",
      " - 0s - loss: 1.7565 - mean_absolute_error: 1.7565\n",
      "Epoch 27/50\n",
      " - 0s - loss: 1.7225 - mean_absolute_error: 1.7225\n",
      "Epoch 28/50\n",
      " - 0s - loss: 1.7157 - mean_absolute_error: 1.7157\n",
      "Epoch 29/50\n",
      " - 0s - loss: 1.6975 - mean_absolute_error: 1.6975\n",
      "Epoch 30/50\n",
      " - 0s - loss: 1.6970 - mean_absolute_error: 1.6970\n",
      "Epoch 31/50\n",
      " - 0s - loss: 1.7013 - mean_absolute_error: 1.7013\n",
      "Epoch 32/50\n",
      " - 0s - loss: 1.6817 - mean_absolute_error: 1.6817\n",
      "Epoch 33/50\n",
      " - 0s - loss: 1.6711 - mean_absolute_error: 1.6711\n",
      "Epoch 34/50\n",
      " - 0s - loss: 1.6677 - mean_absolute_error: 1.6677\n",
      "Epoch 35/50\n",
      " - 0s - loss: 1.6806 - mean_absolute_error: 1.6806\n",
      "Epoch 36/50\n",
      " - 0s - loss: 1.6719 - mean_absolute_error: 1.6719\n",
      "Epoch 37/50\n",
      " - 0s - loss: 1.7034 - mean_absolute_error: 1.7034\n",
      "Epoch 38/50\n",
      " - 0s - loss: 1.6673 - mean_absolute_error: 1.6673\n",
      "Epoch 39/50\n",
      " - 0s - loss: 1.6783 - mean_absolute_error: 1.6783\n",
      "Epoch 40/50\n",
      " - 0s - loss: 1.6509 - mean_absolute_error: 1.6509\n",
      "Epoch 41/50\n",
      " - 0s - loss: 1.6593 - mean_absolute_error: 1.6593\n",
      "Epoch 42/50\n",
      " - 0s - loss: 1.6537 - mean_absolute_error: 1.6537\n",
      "Epoch 43/50\n",
      " - 0s - loss: 1.6522 - mean_absolute_error: 1.6522\n",
      "Epoch 44/50\n",
      " - 0s - loss: 1.6561 - mean_absolute_error: 1.6561\n",
      "Epoch 45/50\n",
      " - 0s - loss: 1.6625 - mean_absolute_error: 1.6625\n",
      "Epoch 46/50\n",
      " - 0s - loss: 1.6460 - mean_absolute_error: 1.6460\n",
      "Epoch 47/50\n",
      " - 0s - loss: 1.6474 - mean_absolute_error: 1.6474\n",
      "Epoch 48/50\n",
      " - 0s - loss: 1.6597 - mean_absolute_error: 1.6597\n",
      "Epoch 49/50\n",
      " - 0s - loss: 1.6415 - mean_absolute_error: 1.6415\n",
      "Epoch 50/50\n",
      " - 0s - loss: 1.6326 - mean_absolute_error: 1.6326\n"
     ]
    }
   ],
   "source": [
    "\"\"\" \n",
    "fucking around with \"30 seconds to Keras\"\n",
    "\"\"\"\n",
    "\n",
    "  # initialize a linear network structure\n",
    "model = Sequential()\n",
    "\n",
    "  # add some layers\n",
    "model.add(Dense(units=128, activation='relu', input_dim=10))\n",
    "model.add(Dropout(0.5))\n",
    "model.add(Dense(units=128, activation='relu'))\n",
    "\n",
    "model.add(Dense(units=64, activation='relu'))\n",
    "model.add(Dropout(0.5))\n",
    "model.add(Dense(units=64, activation='relu'))\n",
    "\n",
    "model.add(Dense(units=32, activation='relu'))\n",
    "model.add(Dropout(0.5))\n",
    "model.add(Dense(units=32, activation='relu'))\n",
    "\n",
    "model.add(Dense(units=16, activation='relu'))\n",
    "model.add(Dropout(0.5))\n",
    "model.add(Dense(units=16, activation='relu'))\n",
    "\n",
    "model.add(Dense(units=1, activation='relu'))\n",
    "\n",
    "\n",
    "  # configure learning process\n",
    "model.compile(loss='mean_absolute_error',\n",
    "              optimizer='Adam',\n",
    "              metrics=['mean_absolute_error'])\n",
    "\n",
    "  # train model for a few epochs. x is the input, y is the target (TRAINING) data\n",
    "history = model.fit(x=train_in, y=train_out, epochs=50, verbose=2)"
   ]
  },
  {
   "cell_type": "code",
   "execution_count": 5,
   "metadata": {},
   "outputs": [
    {
     "name": "stdout",
     "output_type": "stream",
     "text": [
      "418/418 [==============================] - 0s 92us/step\n",
      "[4.187162248711837, 4.187161922454834]\n",
      "['loss', 'mean_absolute_error']\n"
     ]
    },
    {
     "data": {
      "image/png": "[encoded data removed]",
      "text/plain": [
       "<Figure size 432x288 with 1 Axes>"
      ]
     },
     "metadata": {
      "needs_background": "light"
     },
     "output_type": "display_data"
    }
   ],
   "source": [
    "# evaluate performance, x is input and y is target (TESTING) data\n",
    "    \n",
    "loss_and_metrics = model.evaluate(x=test_in, y=test_out, verbose=1)\n",
    "\n",
    "print(loss_and_metrics)\n",
    "print(model.metrics_names)\n",
    "\n",
    "#plot_model(model)\n",
    "\n",
    "# Plot training & validation loss values\n",
    "plt.plot(history.history['loss'], label=\"Training Loss\")\n",
    "plt.title('Model loss')\n",
    "plt.ylabel('Loss')\n",
    "plt.xlabel('Epoch')\n",
    "plt.legend(loc='upper right')\n",
    "plt.show()"
   ]
  },
  {
   "cell_type": "code",
   "execution_count": 6,
   "metadata": {},
   "outputs": [
    {
     "name": "stdout",
     "output_type": "stream",
     "text": [
      "dict_keys(['loss', 'mean_absolute_error'])\n"
     ]
    }
   ],
   "source": [
    "print(history.history.keys())"
   ]
  },
  {
   "cell_type": "code",
   "execution_count": null,
   "metadata": {},
   "outputs": [],
   "source": []
  }
 ],
 "metadata": {
  "kernelspec": {
   "display_name": "Python 3",
   "language": "python",
   "name": "python3"
  },
  "language_info": {
   "codemirror_mode": {
    "name": "ipython",
    "version": 3
   },
   "file_extension": ".py",
   "mimetype": "text/x-python",
   "name": "python",
   "nbconvert_exporter": "python",
   "pygments_lexer": "ipython3",
   "version": "3.6.9"
  }
 },
 "nbformat": 4,
 "nbformat_minor": 4
}
