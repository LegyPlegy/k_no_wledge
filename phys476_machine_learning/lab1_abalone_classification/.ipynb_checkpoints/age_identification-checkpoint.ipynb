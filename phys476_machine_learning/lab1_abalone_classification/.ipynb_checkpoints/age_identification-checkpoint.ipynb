{
 "cells": [
  {
   "cell_type": "code",
   "execution_count": null,
   "metadata": {},
   "outputs": [],
   "source": [
    "import tensorflow\n",
    "import pandas as pd\n",
    "import numpy as np\n",
    "from keras.models import Sequential\n",
    "from keras.layers import Dense, Flatten, Activation, Dropout\n",
    "from keras.callbacks import History\n",
    "from keras.optimizers import Adam\n",
    "from keras.utils import plot_model\n",
    "import matplotlib.pyplot as plt\n",
    "\n",
    "\"\"\"\n",
    "This notebook is based on using machine learning on a set of data taken from a study on Abalones. \n",
    "\"\"\""
   ]
  },
  {
   "cell_type": "code",
   "execution_count": null,
   "metadata": {},
   "outputs": [],
   "source": [
    "\"\"\"\n",
    "import data set, separate into training & testing data\n",
    "\"\"\"\n",
    "\n",
    "filepath = \"abalone.data\"\n",
    "data = pd.read_csv (filepath, header=None, names=['sex','length', 'diameter',\n",
    "                                                        'height','whole','shucked',\n",
    "                                                        'viscera','shell','rings'])\n",
    "\n",
    "  # add 3 one-hot-encoded columns, the sex column is labeled \"M, F, I\", so add a column that does 1 & 0\n",
    "data = pd.concat([pd.get_dummies(data['sex'], prefix='sex'), data], axis=1)  \n",
    "del data['sex']  # remove column with values of \"M, F, I\""
   ]
  },
  {
   "cell_type": "code",
   "execution_count": null,
   "metadata": {},
   "outputs": [],
   "source": [
    "\"\"\"\n",
    "The following both creates the 3-column one-hot encoded sex input data\n",
    "and concatenates it (onto the front end) of the rest of the data array \n",
    "\"\"\"\n",
    "\n",
    "  # first take a random 90% of the data, use it as our training data\n",
    "train_data = data.sample(frac = 9/10, axis = 0)\n",
    "\n",
    "  # take everything else to be our testing data\n",
    "test_data = data.drop(train_data.index)\n",
    "  \n",
    "\"\"\"\n",
    "train_in will be the input data we use to train our network\n",
    "train_out will be used as the answer key for the training done on train_in\n",
    "\"\"\"\n",
    "train_out = train_data['rings'].values  \n",
    "del train_data['rings']\n",
    "train_in = train_data.values\n",
    "\n",
    "\"\"\" \n",
    "test_in will be the input parameters for seeing if our network works\n",
    "test_out will be the answer key for test_in\n",
    "\"\"\"\n",
    "test_out = test_data['rings'].values\n",
    "del test_data ['rings']\n",
    "test_in = test_data.values\n",
    "\n",
    "  # clean up and delete unused arrays\n",
    "del train_data\n",
    "del test_data"
   ]
  },
  {
   "cell_type": "code",
   "execution_count": null,
   "metadata": {},
   "outputs": [],
   "source": [
    "\"\"\" \n",
    "fucking around with \"30 seconds to Keras\"\n",
    "\"\"\"\n",
    "\n",
    "  # initialize a linear network structure\n",
    "model = Sequential()\n",
    "\n",
    "  # add some layers\n",
    "model.add(Dense(units=128, activation='relu', input_dim=10))\n",
    "model.add(Dropout(0.5))\n",
    "model.add(Dense(units=128, activation='relu'))\n",
    "\n",
    "model.add(Dense(units=64, activation='relu'))\n",
    "model.add(Dropout(0.5))\n",
    "model.add(Dense(units=64, activation='relu'))\n",
    "\n",
    "model.add(Dense(units=32, activation='relu'))\n",
    "model.add(Dropout(0.5))\n",
    "model.add(Dense(units=32, activation='relu'))\n",
    "\n",
    "model.add(Dense(units=16, activation='relu'))\n",
    "model.add(Dropout(0.5))\n",
    "model.add(Dense(units=16, activation='relu'))\n",
    "\n",
    "model.add(Dense(units=1, activation='relu'))\n",
    "\n",
    "\n",
    "  # configure learning process\n",
    "model.compile(loss='mean_absolute_error',\n",
    "              optimizer='Adam',\n",
    "              metrics=['mean_absolute_error'])\n",
    "\n",
    "  # train model for a few epochs. x is the input, y is the target (TRAINING) data\n",
    "history = model.fit(x=train_in, y=train_out, epochs=50, verbose=2)"
   ]
  },
  {
   "cell_type": "code",
   "execution_count": null,
   "metadata": {},
   "outputs": [],
   "source": [
    "# evaluate performance, x is input and y is target (TESTING) data\n",
    "    \n",
    "loss_and_metrics = model.evaluate(x=test_in, y=test_out, verbose=1)\n",
    "\n",
    "print(loss_and_metrics)\n",
    "print(model.metrics_names)\n",
    "\n",
    "#plot_model(model)\n",
    "\n",
    "# Plot training & validation loss values\n",
    "plt.plot(history.history['loss'], label=\"Training Loss\")\n",
    "plt.title('Model loss')\n",
    "plt.ylabel('Loss')\n",
    "plt.xlabel('Epoch')\n",
    "plt.legend(loc='upper right')\n",
    "plt.show()"
   ]
  },
  {
   "cell_type": "code",
   "execution_count": null,
   "metadata": {},
   "outputs": [],
   "source": [
    "print(history.history.keys())"
   ]
  },
  {
   "cell_type": "code",
   "execution_count": null,
   "metadata": {},
   "outputs": [],
   "source": []
  }
 ],
 "metadata": {
  "kernelspec": {
   "display_name": "Python 3",
   "language": "python",
   "name": "python3"
  },
  "language_info": {
   "codemirror_mode": {
    "name": "ipython",
    "version": 3
   },
   "file_extension": ".py",
   "mimetype": "text/x-python",
   "name": "python",
   "nbconvert_exporter": "python",
   "pygments_lexer": "ipython3",
   "version": "3.6.9"
  }
 },
 "nbformat": 4,
 "nbformat_minor": 4
}
