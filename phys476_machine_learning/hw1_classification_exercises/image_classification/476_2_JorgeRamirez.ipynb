{
 "cells": [
  {
   "cell_type": "code",
   "execution_count": 1,
   "metadata": {},
   "outputs": [
    {
     "name": "stderr",
     "output_type": "stream",
     "text": [
      "Using TensorFlow backend.\n"
     ]
    },
    {
     "data": {
      "text/plain": [
       "'\\nThis jupyter notebook is based on using machine learning \\nto classify written images of digits\\n'"
      ]
     },
     "execution_count": 1,
     "metadata": {},
     "output_type": "execute_result"
    }
   ],
   "source": [
    "import tensorflow\n",
    "import pandas as pd\n",
    "import numpy as np\n",
    "from keras.models import Sequential\n",
    "from keras.layers import Dense, Flatten, Activation, Dropout\n",
    "from keras.callbacks import History\n",
    "from keras.optimizers import Adam\n",
    "from keras.utils import plot_model\n",
    "import matplotlib.pyplot as plt\n",
    "\n",
    "\n",
    "from keras.datasets import mnist\n",
    "\n",
    "\n",
    "\"\"\"\n",
    "This jupyter notebook is based on using machine learning \n",
    "to classify written images of digits\n",
    "\"\"\""
   ]
  },
  {
   "cell_type": "code",
   "execution_count": 2,
   "metadata": {},
   "outputs": [
    {
     "data": {
      "text/plain": [
       "'\\nrealize that the images are in fact 28x28 grids of numbers, we need to reshape\\neach grid into a 1x784 column vector to feed into the net\\n'"
      ]
     },
     "execution_count": 2,
     "metadata": {},
     "output_type": "execute_result"
    }
   ],
   "source": [
    "\"\"\" \n",
    "this cell is for importing the data from keras.datasets\n",
    "\n",
    "2 tuples:\n",
    "    x_train, x_test: uint8 array of grayscale image data with shape (num_samples, 28, 28).\n",
    "    y_train, y_test: uint8 array of digit labels (integers in range 0-9) with shape (num_samples,).\n",
    "\n",
    "renamed datasets for clarity\n",
    "    x_name -> name_in (input data)\n",
    "    y_name -> name_out (output data)\n",
    "\n",
    "\"\"\"\n",
    "\n",
    "  # load data from keras.datasets\n",
    "(train_in_unshaped, train_out_unencoded), (test_in_unshaped, test_out_unencoded) = mnist.load_data()\n",
    "\n",
    "  # reshape all 60,000 28x28 vectors into 1x784 vectors\n",
    "train_in = train_in_unshaped.reshape(60000, 784)\n",
    "test_in = test_in_unshaped.reshape(10000, 784)\n",
    "\n",
    "\n",
    "  # manually one hot encode numbers 0-9\n",
    "shape = (train_out_unencoded.size, train_out_unencoded.max()+1)\n",
    "train_out = np.zeros(shape) \n",
    "train_out[np.arange(train_out_unencoded.size), train_out_unencoded] = 1 \n",
    "\n",
    "  # repeat for testing data\n",
    "shape = (test_out_unencoded.size, test_out_unencoded.max()+1)\n",
    "test_out = np.zeros(shape)\n",
    "test_out[np.arange(test_out_unencoded.size), test_out_unencoded] = 1 \n",
    "\n",
    "\n",
    "\"\"\"\n",
    "plot the numbers :)\n",
    "print(train_in[2])\n",
    "plt.imshow(train_in[2], interpolation='nearest')\n",
    "#plt.imshow(train_in[np.random.randint(0, train_in[1].size)], interpolation='nearest')\n",
    "\"\"\"\n"
   ]
  },
  {
   "cell_type": "code",
   "execution_count": null,
   "metadata": {},
   "outputs": [
    {
     "name": "stdout",
     "output_type": "stream",
     "text": [
      "Epoch 1/15\n",
      " - 34s - loss: 2.3409 - accuracy: 0.1114\n",
      "Epoch 2/15\n",
      " - 34s - loss: 2.3014 - accuracy: 0.1124\n",
      "Epoch 3/15\n",
      " - 37s - loss: 2.3014 - accuracy: 0.1124\n",
      "Epoch 4/15\n",
      " - 35s - loss: 2.3014 - accuracy: 0.1124\n",
      "Epoch 5/15\n",
      " - 37s - loss: 2.3323 - accuracy: 0.1124\n",
      "Epoch 6/15\n",
      " - 36s - loss: 2.3014 - accuracy: 0.1124\n",
      "Epoch 7/15\n",
      " - 38s - loss: 2.3015 - accuracy: 0.1124\n",
      "Epoch 8/15\n",
      " - 35s - loss: 2.3014 - accuracy: 0.1124\n",
      "Epoch 9/15\n"
     ]
    }
   ],
   "source": [
    "\"\"\" \n",
    "making a net with several hidden layers and some dropout sprinkled in because that's cool\n",
    "\"\"\"\n",
    "\n",
    "  # initialize a linear network structure\n",
    "model = Sequential()\n",
    "\n",
    "  # add some layers\n",
    "model.add(Dense(units=1024, activation='relu', input_dim=(784)))\n",
    "\n",
    "model.add(Dense(units=512, activation='relu'))\n",
    "\n",
    "model.add(Dropout(0.5))\n",
    "\n",
    "model.add(Dense(units=256, activation='relu'))\n",
    "\n",
    "model.add(Dense(units=128, activation='relu'))\n",
    "\n",
    "model.add(Dropout(0.5))\n",
    "\n",
    "model.add(Dense(units=64, activation='relu'))\n",
    "\n",
    "model.add(Dense(units=32, activation='relu'))\n",
    "\n",
    "model.add(Dropout(0.5))\n",
    "\n",
    "model.add(Dense(units=16, activation='relu'))\n",
    "\n",
    "model.add(Dense(units=10, activation='softmax'))\n",
    "\n",
    "\n",
    "  # configure learning process\n",
    "model.compile(loss='categorical_crossentropy',\n",
    "              optimizer='Adam',\n",
    "              metrics=['accuracy'])\n",
    "\n",
    "  # train model for a few epochs. x is the input, y is the target (TRAINING) data\n",
    "history = model.fit(x=train_in, y=train_out, epochs=5, verbose=2, batch_size=8)\n"
   ]
  },
  {
   "cell_type": "code",
   "execution_count": null,
   "metadata": {},
   "outputs": [],
   "source": [
    "# evaluate performance, x is input and y is target (TESTING) data\n",
    "    \n",
    "loss_and_metrics_1 = model.evaluate(x=test_in, y=test_out, verbose=1)\n",
    "\n",
    "print(\"\\n\\nResult of testing on test data:\")\n",
    "print(model.metrics_names)\n",
    "print(loss_and_metrics_1)\n",
    "print(\"\\n\")\n",
    "\n",
    "\n",
    "# Plot training & validation loss values\n",
    "plt.plot(history.history['accuracy'], label=\"Accuracy\")\n",
    "\n",
    "plt.title('History of Net Accuracy')\n",
    "plt.xlabel('Epoch')\n",
    "plt.legend(loc='upper left')\n",
    "plt.show()"
   ]
  }
 ],
 "metadata": {
  "kernelspec": {
   "display_name": "Python 3",
   "language": "python",
   "name": "python3"
  },
  "language_info": {
   "codemirror_mode": {
    "name": "ipython",
    "version": 3
   },
   "file_extension": ".py",
   "mimetype": "text/x-python",
   "name": "python",
   "nbconvert_exporter": "python",
   "pygments_lexer": "ipython3",
   "version": "3.6.9"
  }
 },
 "nbformat": 4,
 "nbformat_minor": 4
}
