{
 "cells": [
  {
   "cell_type": "code",
   "execution_count": null,
   "metadata": {},
   "outputs": [],
   "source": [
    "import tensorflow\n",
    "import numpy as np\n",
    "import matplotlib.pyplot as plt\n",
    "import h5py\n",
    "\n",
    "import torch\n",
    "import torch.nn as nn\n",
    "\n",
    "dtype = torch.float\n",
    "#device = torch.device(\"cuda:0\" if torch.cuda.is_available() else \"cpu\")\n",
    "device = torch.device(\"cpu\")\n"
   ]
  },
  {
   "cell_type": "code",
   "execution_count": null,
   "metadata": {},
   "outputs": [],
   "source": [
    "\"\"\" first prepare the datasets \"\"\"\n",
    "\n",
    "f = h5py.File(\"Galaxy10.h5\", 'r')  # open h5py file\n",
    "\n",
    "  # extract each dictionary entry into its own dataset\n",
    "dset_img = f['images']\n",
    "dset_ans = f['ans']      \n",
    "\n",
    "''' uncomment to see raw data + plot of digit\n",
    "print(dset_ans[2])\n",
    "plt.imshow(dset_img[2], interpolation='nearest')\n",
    "print(dset_img[2])\n",
    "'''\n",
    "\n",
    "  # convert to numpy first because it gets converted faster\n",
    "numpy_img = np.array(dset_img)\n",
    "numpy_ans = np.array(dset_ans)\n",
    "\n",
    "  # also move the 3-channels to 1st position for pytorch in the img set\n",
    "numpy_img = np.moveaxis(numpy_img, -1, 0)  # move channels to 2nd axis\n",
    "numpy_img = np.moveaxis(numpy_img, 1, 0)  # move N datapoints to 1st axis\n",
    "  \n",
    "  # now convert these datasets to PyTorch tensors\n",
    "data_in = torch.tensor(numpy_img, dtype=dtype, device=device)\n",
    "data_out = torch.tensor(numpy_ans, dtype=dtype, device=device)\n",
    "\n",
    "  # collect garbage\n",
    "del dset_img, dset_ans, numpy_img, numpy_ans, f"
   ]
  },
  {
   "cell_type": "code",
   "execution_count": null,
   "metadata": {},
   "outputs": [],
   "source": [
    "print(torch.cuda.is_available())\n",
    "print(data_in.shape)  # should be NxCxHxW"
   ]
  },
  {
   "cell_type": "code",
   "execution_count": null,
   "metadata": {},
   "outputs": [],
   "source": [
    "\"\"\" hyperparams \"\"\"\n",
    "\n",
    "batch_size = 8\n",
    "\n",
    "learning_rate = 5e-6\n",
    "\n",
    "epochs = 5"
   ]
  },
  {
   "cell_type": "code",
   "execution_count": null,
   "metadata": {},
   "outputs": [],
   "source": [
    "\"\"\" begin creation of neural network \"\"\"\n",
    "\n",
    "  # create our conv2d layers\n",
    "first_conv = nn.Conv2d(in_channels=3, out_channels=16, kernel_size=3, stride=1, padding=1)\n",
    "second_conv = nn.Conv2d(in_channels=16, out_channels=24, kernel_size=3, stride=1, padding=1)\n",
    "third_conv = nn.Conv2d(in_channels=24, out_channels=32, kernel_size=3, stride=1, padding=1)\n",
    "\n",
    "  # create our flattening & pooling layers\n",
    "maxpool2d = nn.MaxPool2d(kernel_size=3)  # add one of these in between each conv2d layer\n",
    "\n",
    "\n",
    "  # create model, not gonna lie it looks pretty ugly but hey man it's readable\n",
    "model = nn.Sequential( \n",
    "    first_conv,\n",
    "    nn.Sigmoid(),\n",
    "    maxpool2d,\n",
    "    \n",
    "    second_conv,\n",
    "    nn.Sigmoid(),\n",
    "    maxpool2d,\n",
    "    \n",
    "    third_conv,\n",
    "    nn.Sigmoid(),\n",
    "    maxpool2d,\n",
    "    \n",
    "    nn.Flatten() \n",
    "    \n",
    ").to(device)  # put on device\n",
    "\n",
    "  # define our loss function\n",
    "loss_fn = torch.nn.CrossEntropyLoss()\n",
    "\n",
    "  # define our optimizer\n",
    "optimizer = torch.optim.Adam(model.parameters())"
   ]
  },
  {
   "cell_type": "code",
   "execution_count": null,
   "metadata": {},
   "outputs": [],
   "source": [
    "\"\"\" train neural network \"\"\"\n",
    "losses= []\n",
    "for t in range(epochs):\n",
    "    \n",
    "      # run the nn once and save its predictions to y-pred\n",
    "    y_pred = model(data_in)  \n",
    "    \n",
    "      # calculate our loss for this specific pass\n",
    "    loss = loss_fn(y_pred, data_out.long())\n",
    "    \n",
    "      # print loss each epoch for debugging\n",
    "    #if t % 10 == 9:\n",
    "    #    print(t, loss.item())\n",
    "    \n",
    "      # zero the gradients \n",
    "    optimizer.zero_grad()\n",
    "    \n",
    "      # now backpropagate\n",
    "    loss.backward()\n",
    "    optimizer.step()\n",
    "      \n",
    "      # save individual epoch losses\n",
    "    losses.append(loss.data.mean())\n",
    "    \n",
    "      # update all of the weights in each parameter Tensor that doesn't have no_grad()\n",
    "    with torch.no_grad():\n",
    "        for param in model.parameters():\n",
    "            param -= learning_rate * param.grad\n",
    "            \n",
    "    print('[%d] Loss: %.3f' % (t, np.mean(losses)))\n",
    "    \n",
    "    # not gonna lie, everything I try to look up about PyTorch is horribly complex or not relevant\n",
    "    # I like keras so much more but that's probably a cop out"
   ]
  }
 ],
 "metadata": {
  "kernelspec": {
   "display_name": "Python 3",
   "language": "python",
   "name": "python3"
  },
  "language_info": {
   "codemirror_mode": {
    "name": "ipython",
    "version": 3
   },
   "file_extension": ".py",
   "mimetype": "text/x-python",
   "name": "python",
   "nbconvert_exporter": "python",
   "pygments_lexer": "ipython3",
   "version": "3.8.2"
  }
 },
 "nbformat": 4,
 "nbformat_minor": 4
}
